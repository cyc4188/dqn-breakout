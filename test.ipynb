{
 "cells": [
  {
   "cell_type": "code",
   "execution_count": 1,
   "metadata": {},
   "outputs": [
    {
     "ename": "NameError",
     "evalue": "name 'last' is not defined",
     "output_type": "error",
     "traceback": [
      "\u001b[0;31m---------------------------------------------------------------------------\u001b[0m",
      "\u001b[0;31mNameError\u001b[0m                                 Traceback (most recent call last)",
      "Cell \u001b[0;32mIn [1], line 6\u001b[0m\n\u001b[1;32m      4\u001b[0m     last \u001b[39m=\u001b[39m filenames\n\u001b[1;32m      5\u001b[0m     \u001b[39mbreak\u001b[39;00m\n\u001b[0;32m----> 6\u001b[0m last\u001b[39m.\u001b[39msort()\n",
      "\u001b[0;31mNameError\u001b[0m: name 'last' is not defined"
     ]
    }
   ],
   "source": [
    "import os\n",
    "SAVE_PREFIX = \"./models111\"\n",
    "for dirpath, dirnames, filenames in os.walk(SAVE_PREFIX):\n",
    "    last = filenames\n",
    "    break\n",
    "last.sort()"
   ]
  },
  {
   "cell_type": "code",
   "execution_count": null,
   "metadata": {},
   "outputs": [],
   "source": [
    "last"
   ]
  }
 ],
 "metadata": {
  "kernelspec": {
   "display_name": "Python 3.10.8 ('rf')",
   "language": "python",
   "name": "python3"
  },
  "language_info": {
   "codemirror_mode": {
    "name": "ipython",
    "version": 3
   },
   "file_extension": ".py",
   "mimetype": "text/x-python",
   "name": "python",
   "nbconvert_exporter": "python",
   "pygments_lexer": "ipython3",
   "version": "3.10.8"
  },
  "orig_nbformat": 4,
  "vscode": {
   "interpreter": {
    "hash": "4303bbb6e05377c9656071d423cced716a456aa58d41d60477bb96e031f3e511"
   }
  }
 },
 "nbformat": 4,
 "nbformat_minor": 2
}
